{
 "cells": [
  {
   "cell_type": "code",
   "execution_count": 4,
   "metadata": {},
   "outputs": [
    {
     "name": "stdout",
     "output_type": "stream",
     "text": [
      "Overall std of pct_chg: 0.04\n",
      "Standard deviation of pct_chg per stock:\n",
      "ts_code\n",
      "000001.SZ    0.026141\n",
      "000002.SZ    0.025029\n",
      "000006.SZ         NaN\n",
      "000008.SZ    0.031243\n",
      "000009.SZ    0.057887\n",
      "               ...   \n",
      "688266.SH    0.079928\n",
      "688268.SH    0.075880\n",
      "688278.SH    0.007151\n",
      "688298.SH    0.004359\n",
      "688299.SH         NaN\n",
      "Name: pct_chg, Length: 3441, dtype: float64\n",
      "Stocks with pct_chg std below 2:\n",
      "ts_code\n",
      "000001.SZ    0.026141\n",
      "000002.SZ    0.025029\n",
      "000008.SZ    0.031243\n",
      "000009.SZ    0.057887\n",
      "000010.SZ    0.028355\n",
      "               ...   \n",
      "688233.SH    0.068342\n",
      "688266.SH    0.079928\n",
      "688268.SH    0.075880\n",
      "688278.SH    0.007151\n",
      "688298.SH    0.004359\n",
      "Name: pct_chg, Length: 3040, dtype: float64\n"
     ]
    }
   ],
   "source": [
    "import pandas as pd\n",
    "\n",
    "# Load your CSV data\n",
    "df = pd.read_csv(\"../src/stock_data.csv\")\n",
    "\n",
    "# Calculate overall standard deviation for pct_chg\n",
    "overall_std = df[\"pct_chg\"].std()\n",
    "print(f\"Overall std of pct_chg: {overall_std:.2f}\")\n",
    "\n",
    "# Calculate the standard deviation for each stock by grouping by ts_code\n",
    "stds = df.groupby(\"ts_code\")[\"pct_chg\"].std()\n",
    "print(\"Standard deviation of pct_chg per stock:\")\n",
    "print(stds)\n",
    "\n",
    "# Identify stocks with std below 2 (which should be nearly all in your case)\n",
    "stable_stocks = stds[stds < 2]\n",
    "print(\"Stocks with pct_chg std below 2:\")\n",
    "print(stable_stocks)\n"
   ]
  },
  {
   "cell_type": "code",
   "execution_count": 1,
   "metadata": {},
   "outputs": [
    {
     "name": "stdout",
     "output_type": "stream",
     "text": [
      "PyTorch version: 2.6.0+cu118\n",
      "CUDA version reported by PyTorch: 11.8\n",
      "CUDA available: True\n",
      "CUDA device: NVIDIA GeForce RTX 4080 SUPER\n"
     ]
    }
   ],
   "source": [
    "import torch\n",
    "print(\"PyTorch version:\", torch.__version__)\n",
    "print(\"CUDA version reported by PyTorch:\", torch.version.cuda)\n",
    "print(\"CUDA available:\", torch.cuda.is_available())\n",
    "if torch.cuda.is_available():\n",
    "    print(\"CUDA device:\", torch.cuda.get_device_name(0))\n",
    "else:\n",
    "    print(\"CUDA is not available. Using CPU.\")\n"
   ]
  }
 ],
 "metadata": {
  "kernelspec": {
   "display_name": "Python 3",
   "language": "python",
   "name": "python3"
  },
  "language_info": {
   "codemirror_mode": {
    "name": "ipython",
    "version": 3
   },
   "file_extension": ".py",
   "mimetype": "text/x-python",
   "name": "python",
   "nbconvert_exporter": "python",
   "pygments_lexer": "ipython3",
   "version": "3.9.13"
  }
 },
 "nbformat": 4,
 "nbformat_minor": 2
}
